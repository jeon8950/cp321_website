{
 "cells": [
  {
   "cell_type": "code",
   "execution_count": 4,
   "id": "03b1314f-14bc-4256-a1f5-79d747f4676a",
   "metadata": {},
   "outputs": [],
   "source": [
    "import numpy as np \n",
    "import pandas as pd \n",
    "from dash import Dash, html, dcc, callback, Output, Input, dash_table\n",
    "import plotly.graph_objs as go"
   ]
  },
  {
   "cell_type": "code",
   "execution_count": 13,
   "id": "527f2783-1084-4eab-a67d-b623a42068d1",
   "metadata": {},
   "outputs": [
    {
     "name": "stdout",
     "output_type": "stream",
     "text": [
      "    Year     Winner       Runner-up\n",
      "0   1930    Uruguay       Argentina\n",
      "1   1934      Italy  Czechoslovakia\n",
      "2   1938      Italy         Hungary\n",
      "3   1950    Uruguay          Brazil\n",
      "4   1954    Germany         Hungary\n",
      "5   1958     Brazil          Sweden\n",
      "6   1962     Brazil  Czechoslovakia\n",
      "7   1966    England         Germany\n",
      "8   1970     Brazil           Italy\n",
      "9   1974    Germany     Netherlands\n",
      "10  1978  Argentina     Netherlands\n",
      "11  1982      Italy         Germany\n",
      "12  1986  Argentina         Germany\n",
      "13  1990    Germany       Argentina\n",
      "14  1994     Brazil           Italy\n",
      "15  1998     France          Brazil\n",
      "16  2002     Brazil         Germany\n",
      "17  2006      Italy          France\n",
      "18  2010      Spain     Netherlands\n",
      "19  2014    Germany       Argentina\n",
      "20  2018     France         Croatia\n",
      "21  2022  Argentina          France\n"
     ]
    }
   ],
   "source": [
    "#step 1\n",
    "data = [\n",
    "    {\"Year\": 1930, \"Winner\": \"Uruguay\", \"Runner-up\": \"Argentina\"},\n",
    "    {\"Year\": 1934, \"Winner\": \"Italy\", \"Runner-up\": \"Czechoslovakia\"},\n",
    "    {\"Year\": 1938, \"Winner\": \"Italy\", \"Runner-up\": \"Hungary\"},\n",
    "    {\"Year\": 1950, \"Winner\": \"Uruguay\", \"Runner-up\": \"Brazil\"},\n",
    "    {\"Year\": 1954, \"Winner\": \"Germany\", \"Runner-up\": \"Hungary\"},\n",
    "    {\"Year\": 1958, \"Winner\": \"Brazil\", \"Runner-up\": \"Sweden\"},\n",
    "    {\"Year\": 1962, \"Winner\": \"Brazil\", \"Runner-up\": \"Czechoslovakia\"},\n",
    "    {\"Year\": 1966, \"Winner\": \"England\", \"Runner-up\": \"Germany\"},\n",
    "    {\"Year\": 1970, \"Winner\": \"Brazil\", \"Runner-up\": \"Italy\"},\n",
    "    {\"Year\": 1974, \"Winner\": \"Germany\", \"Runner-up\": \"Netherlands\"},\n",
    "    {\"Year\": 1978, \"Winner\": \"Argentina\", \"Runner-up\": \"Netherlands\"},\n",
    "    {\"Year\": 1982, \"Winner\": \"Italy\", \"Runner-up\": \"Germany\"},\n",
    "    {\"Year\": 1986, \"Winner\": \"Argentina\", \"Runner-up\": \"Germany\"},\n",
    "    {\"Year\": 1990, \"Winner\": \"Germany\", \"Runner-up\": \"Argentina\"},\n",
    "    {\"Year\": 1994, \"Winner\": \"Brazil\", \"Runner-up\": \"Italy\"},\n",
    "    {\"Year\": 1998, \"Winner\": \"France\", \"Runner-up\": \"Brazil\"},\n",
    "    {\"Year\": 2002, \"Winner\": \"Brazil\", \"Runner-up\": \"Germany\"},\n",
    "    {\"Year\": 2006, \"Winner\": \"Italy\", \"Runner-up\": \"France\"},\n",
    "    {\"Year\": 2010, \"Winner\": \"Spain\", \"Runner-up\": \"Netherlands\"},\n",
    "    {\"Year\": 2014, \"Winner\": \"Germany\", \"Runner-up\": \"Argentina\"},\n",
    "    {\"Year\": 2018, \"Winner\": \"France\", \"Runner-up\": \"Croatia\"},\n",
    "    {\"Year\": 2022, \"Winner\": \"Argentina\", \"Runner-up\": \"France\"}\n",
    "]\n",
    "\n",
    "df = pd.DataFrame(data)\n",
    "\n",
    "df.to_csv(\"Fifa_WorldCup_Finals.csv\", index = False)\n",
    "\n",
    "print(df)\n",
    "\n"
   ]
  },
  {
   "cell_type": "code",
   "execution_count": 33,
   "id": "10e9b35a-6cca-456a-af40-8df6826580f7",
   "metadata": {},
   "outputs": [
    {
     "data": {
      "text/html": [
       "\n",
       "        <iframe\n",
       "            width=\"100%\"\n",
       "            height=\"650\"\n",
       "            src=\"http://127.0.0.1:8050/\"\n",
       "            frameborder=\"0\"\n",
       "            allowfullscreen\n",
       "            \n",
       "        ></iframe>\n",
       "        "
      ],
      "text/plain": [
       "<IPython.lib.display.IFrame at 0x22610db3650>"
      ]
     },
     "metadata": {},
     "output_type": "display_data"
    }
   ],
   "source": [
    "\n",
    "\n",
    "\n",
    "app = Dash()\n",
    "winners = sorted(df[\"Winner\"].unique())\n",
    "years = sorted(df[\"Year\"].unique())\n",
    "app.layout=[\n",
    "    html.Div(children='FIFA World Cup Winners and Runner ups'), \n",
    "    html.Button(\"Show winning countries\", id = 'winner-button', n_clicks=0 ),\n",
    "    html.Div(id=\"winners-output\"),\n",
    "    html.Hr(),\n",
    "    html.Label(\"Select a Country\"),\n",
    "    dcc.Dropdown(\n",
    "        id = \"country-dropdown\",\n",
    "        options = [{\"label\": country, \"value\": country} for country in winners],\n",
    "        placeholder = \"choose a country\"\n",
    "    ),\n",
    "    html.Div(id = \"win-count\"),\n",
    "    html.Hr(),\n",
    "    html.Label(\"Select a year\"),\n",
    "    dcc.Dropdown(\n",
    "        id = \"year-dropdown\",\n",
    "        options = [{\"label\" : year, \"value\" : year} for year in years],\n",
    "        placeholder = \"choose a year\"\n",
    "    ),\n",
    "    html.Div(id = 'year-output'),\n",
    "    html.Hr(),\n",
    "    dash_table.DataTable(data=df.to_dict('records'))\n",
    "]\n",
    "@app.callback(\n",
    "    Output(\"winners-output\", \"children\"),\n",
    "    Input(\"winner-button\", \"n_clicks\")\n",
    ")\n",
    "\n",
    "def show_winners(n_clicks):\n",
    "    if n_clicks>0:\n",
    "        return html.Ul([html.Li(country) for country in winners])\n",
    "    return \"\"\n",
    "\n",
    "@app.callback(\n",
    "    Output(\"win-count\", \"children\"),\n",
    "    Input(\"country-dropdown\", \"value\")\n",
    ")\n",
    "\n",
    "def show_win_count(selected_country):\n",
    "    if selected_country:\n",
    "        win_count = df[df[\"Winner\"] == selected_country].shape[0]\n",
    "        return html.H3(f\"{selected_country} has won the World Cup {win_count} times\")\n",
    "    return \"\"\n",
    "\n",
    "@app.callback(\n",
    "    Output(\"year-output\", \"children\"),\n",
    "    Input(\"year-dropdown\", \"value\")\n",
    ")\n",
    "\n",
    "def show_year_result(selected_year):\n",
    "    if selected_year:\n",
    "        match = df[df[\"Year\"] == selected_year]\n",
    "        if not match.empty:\n",
    "            winner =match[\"Winner\"].values[0]\n",
    "            runnerup = match[\"Runner-up\"].values[0]\n",
    "            return html.H3(f\"In {selected_year}, {winner} won the World Cup and {runnerup} was the runner-up.\")\n",
    "    return \"\"\n",
    "            \n",
    "if __name__== '__main__':\n",
    "    app.run(debug=True)"
   ]
  },
  {
   "cell_type": "code",
   "execution_count": null,
   "id": "c25f00dc-7184-4ed0-a805-ab9eb5ddef13",
   "metadata": {},
   "outputs": [],
   "source": []
  }
 ],
 "metadata": {
  "kernelspec": {
   "display_name": "Python 3 (ipykernel)",
   "language": "python",
   "name": "python3"
  },
  "language_info": {
   "codemirror_mode": {
    "name": "ipython",
    "version": 3
   },
   "file_extension": ".py",
   "mimetype": "text/x-python",
   "name": "python",
   "nbconvert_exporter": "python",
   "pygments_lexer": "ipython3",
   "version": "3.13.2"
  }
 },
 "nbformat": 4,
 "nbformat_minor": 5
}
